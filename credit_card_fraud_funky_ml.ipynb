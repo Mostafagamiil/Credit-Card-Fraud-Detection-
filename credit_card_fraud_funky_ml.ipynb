{
  "cells": [
    {
      "cell_type": "code",
      "execution_count": null,
      "metadata": {
        "id": "olive-guitar"
      },
      "outputs": [],
      "source": [
        "import numpy as np # linear algebra\n",
        "import pandas as pd # data processing, CSV file I/O (e.g. pd.read_csv)\n",
        "import os\n",
        "#for dirname, _, filenames in os.walk('/kaggle/input'):\n",
        "  #  for filename in filenames:\n",
        "   #     print(os.path.join(dirname, filename))"
      ],
      "id": "olive-guitar"
    },
    {
      "cell_type": "code",
      "execution_count": null,
      "metadata": {
        "colab": {
          "base_uri": "https://localhost:8080/"
        },
        "id": "PCKlbABdgg4u",
        "outputId": "b3c5d4de-6e0f-4e5b-b327-692cd59722ba"
      },
      "outputs": [
        {
          "output_type": "stream",
          "name": "stdout",
          "text": [
            "Drive already mounted at /content/drive; to attempt to forcibly remount, call drive.mount(\"/content/drive\", force_remount=True).\n"
          ]
        }
      ],
      "source": [
        "from google.colab import drive\n",
        "drive.mount('/content/drive')"
      ],
      "id": "PCKlbABdgg4u"
    },
    {
      "cell_type": "code",
      "execution_count": null,
      "metadata": {
        "id": "interracial-locking"
      },
      "outputs": [],
      "source": [
        "# Importing Liberaries\n",
        "import numpy as np\n",
        "import pandas as pd\n",
        "import seaborn as sns\n",
        "import matplotlib.pyplot as plt\n",
        "from pandas import read_csv, set_option\n",
        "from pandas.plotting import scatter_matrix\n",
        "from sklearn.metrics import confusion_matrix"
      ],
      "id": "interracial-locking"
    },
    {
      "cell_type": "code",
      "execution_count": null,
      "metadata": {
        "id": "foreign-audio"
      },
      "outputs": [],
      "source": [
        "# Loading Data\n",
        "fraud_data = pd.read_csv('/content/drive/MyDrive/archive (2)/creditcard.csv')"
      ],
      "id": "foreign-audio"
    },
    {
      "cell_type": "code",
      "execution_count": null,
      "metadata": {
        "colab": {
          "base_uri": "https://localhost:8080/",
          "height": 236
        },
        "id": "satisfied-cookbook",
        "outputId": "033ac48a-df47-4800-c9de-b5f086a827bd"
      },
      "outputs": [
        {
          "output_type": "execute_result",
          "data": {
            "text/plain": [
              "   Time        V1        V2        V3        V4        V5        V6        V7        V8        V9  \\\n",
              "0   0.0 -1.359807 -0.072781  2.536347  1.378155 -0.338321  0.462388  0.239599  0.098698  0.363787   \n",
              "1   0.0  1.191857  0.266151  0.166480  0.448154  0.060018 -0.082361 -0.078803  0.085102 -0.255425   \n",
              "2   1.0 -1.358354 -1.340163  1.773209  0.379780 -0.503198  1.800499  0.791461  0.247676 -1.514654   \n",
              "3   1.0 -0.966272 -0.185226  1.792993 -0.863291 -0.010309  1.247203  0.237609  0.377436 -1.387024   \n",
              "4   2.0 -1.158233  0.877737  1.548718  0.403034 -0.407193  0.095921  0.592941 -0.270533  0.817739   \n",
              "\n",
              "   ...       V21       V22       V23       V24       V25       V26       V27       V28  Amount  \\\n",
              "0  ... -0.018307  0.277838 -0.110474  0.066928  0.128539 -0.189115  0.133558 -0.021053  149.62   \n",
              "1  ... -0.225775 -0.638672  0.101288 -0.339846  0.167170  0.125895 -0.008983  0.014724    2.69   \n",
              "2  ...  0.247998  0.771679  0.909412 -0.689281 -0.327642 -0.139097 -0.055353 -0.059752  378.66   \n",
              "3  ... -0.108300  0.005274 -0.190321 -1.175575  0.647376 -0.221929  0.062723  0.061458  123.50   \n",
              "4  ... -0.009431  0.798278 -0.137458  0.141267 -0.206010  0.502292  0.219422  0.215153   69.99   \n",
              "\n",
              "   Class  \n",
              "0      0  \n",
              "1      0  \n",
              "2      0  \n",
              "3      0  \n",
              "4      0  \n",
              "\n",
              "[5 rows x 31 columns]"
            ],
            "text/html": [
              "\n",
              "  <div id=\"df-4ca1d18a-5cdd-4942-8512-875340f583bb\">\n",
              "    <div class=\"colab-df-container\">\n",
              "      <div>\n",
              "<style scoped>\n",
              "    .dataframe tbody tr th:only-of-type {\n",
              "        vertical-align: middle;\n",
              "    }\n",
              "\n",
              "    .dataframe tbody tr th {\n",
              "        vertical-align: top;\n",
              "    }\n",
              "\n",
              "    .dataframe thead th {\n",
              "        text-align: right;\n",
              "    }\n",
              "</style>\n",
              "<table border=\"1\" class=\"dataframe\">\n",
              "  <thead>\n",
              "    <tr style=\"text-align: right;\">\n",
              "      <th></th>\n",
              "      <th>Time</th>\n",
              "      <th>V1</th>\n",
              "      <th>V2</th>\n",
              "      <th>V3</th>\n",
              "      <th>V4</th>\n",
              "      <th>V5</th>\n",
              "      <th>V6</th>\n",
              "      <th>V7</th>\n",
              "      <th>V8</th>\n",
              "      <th>V9</th>\n",
              "      <th>...</th>\n",
              "      <th>V21</th>\n",
              "      <th>V22</th>\n",
              "      <th>V23</th>\n",
              "      <th>V24</th>\n",
              "      <th>V25</th>\n",
              "      <th>V26</th>\n",
              "      <th>V27</th>\n",
              "      <th>V28</th>\n",
              "      <th>Amount</th>\n",
              "      <th>Class</th>\n",
              "    </tr>\n",
              "  </thead>\n",
              "  <tbody>\n",
              "    <tr>\n",
              "      <th>0</th>\n",
              "      <td>0.0</td>\n",
              "      <td>-1.359807</td>\n",
              "      <td>-0.072781</td>\n",
              "      <td>2.536347</td>\n",
              "      <td>1.378155</td>\n",
              "      <td>-0.338321</td>\n",
              "      <td>0.462388</td>\n",
              "      <td>0.239599</td>\n",
              "      <td>0.098698</td>\n",
              "      <td>0.363787</td>\n",
              "      <td>...</td>\n",
              "      <td>-0.018307</td>\n",
              "      <td>0.277838</td>\n",
              "      <td>-0.110474</td>\n",
              "      <td>0.066928</td>\n",
              "      <td>0.128539</td>\n",
              "      <td>-0.189115</td>\n",
              "      <td>0.133558</td>\n",
              "      <td>-0.021053</td>\n",
              "      <td>149.62</td>\n",
              "      <td>0</td>\n",
              "    </tr>\n",
              "    <tr>\n",
              "      <th>1</th>\n",
              "      <td>0.0</td>\n",
              "      <td>1.191857</td>\n",
              "      <td>0.266151</td>\n",
              "      <td>0.166480</td>\n",
              "      <td>0.448154</td>\n",
              "      <td>0.060018</td>\n",
              "      <td>-0.082361</td>\n",
              "      <td>-0.078803</td>\n",
              "      <td>0.085102</td>\n",
              "      <td>-0.255425</td>\n",
              "      <td>...</td>\n",
              "      <td>-0.225775</td>\n",
              "      <td>-0.638672</td>\n",
              "      <td>0.101288</td>\n",
              "      <td>-0.339846</td>\n",
              "      <td>0.167170</td>\n",
              "      <td>0.125895</td>\n",
              "      <td>-0.008983</td>\n",
              "      <td>0.014724</td>\n",
              "      <td>2.69</td>\n",
              "      <td>0</td>\n",
              "    </tr>\n",
              "    <tr>\n",
              "      <th>2</th>\n",
              "      <td>1.0</td>\n",
              "      <td>-1.358354</td>\n",
              "      <td>-1.340163</td>\n",
              "      <td>1.773209</td>\n",
              "      <td>0.379780</td>\n",
              "      <td>-0.503198</td>\n",
              "      <td>1.800499</td>\n",
              "      <td>0.791461</td>\n",
              "      <td>0.247676</td>\n",
              "      <td>-1.514654</td>\n",
              "      <td>...</td>\n",
              "      <td>0.247998</td>\n",
              "      <td>0.771679</td>\n",
              "      <td>0.909412</td>\n",
              "      <td>-0.689281</td>\n",
              "      <td>-0.327642</td>\n",
              "      <td>-0.139097</td>\n",
              "      <td>-0.055353</td>\n",
              "      <td>-0.059752</td>\n",
              "      <td>378.66</td>\n",
              "      <td>0</td>\n",
              "    </tr>\n",
              "    <tr>\n",
              "      <th>3</th>\n",
              "      <td>1.0</td>\n",
              "      <td>-0.966272</td>\n",
              "      <td>-0.185226</td>\n",
              "      <td>1.792993</td>\n",
              "      <td>-0.863291</td>\n",
              "      <td>-0.010309</td>\n",
              "      <td>1.247203</td>\n",
              "      <td>0.237609</td>\n",
              "      <td>0.377436</td>\n",
              "      <td>-1.387024</td>\n",
              "      <td>...</td>\n",
              "      <td>-0.108300</td>\n",
              "      <td>0.005274</td>\n",
              "      <td>-0.190321</td>\n",
              "      <td>-1.175575</td>\n",
              "      <td>0.647376</td>\n",
              "      <td>-0.221929</td>\n",
              "      <td>0.062723</td>\n",
              "      <td>0.061458</td>\n",
              "      <td>123.50</td>\n",
              "      <td>0</td>\n",
              "    </tr>\n",
              "    <tr>\n",
              "      <th>4</th>\n",
              "      <td>2.0</td>\n",
              "      <td>-1.158233</td>\n",
              "      <td>0.877737</td>\n",
              "      <td>1.548718</td>\n",
              "      <td>0.403034</td>\n",
              "      <td>-0.407193</td>\n",
              "      <td>0.095921</td>\n",
              "      <td>0.592941</td>\n",
              "      <td>-0.270533</td>\n",
              "      <td>0.817739</td>\n",
              "      <td>...</td>\n",
              "      <td>-0.009431</td>\n",
              "      <td>0.798278</td>\n",
              "      <td>-0.137458</td>\n",
              "      <td>0.141267</td>\n",
              "      <td>-0.206010</td>\n",
              "      <td>0.502292</td>\n",
              "      <td>0.219422</td>\n",
              "      <td>0.215153</td>\n",
              "      <td>69.99</td>\n",
              "      <td>0</td>\n",
              "    </tr>\n",
              "  </tbody>\n",
              "</table>\n",
              "<p>5 rows × 31 columns</p>\n",
              "</div>\n",
              "      <button class=\"colab-df-convert\" onclick=\"convertToInteractive('df-4ca1d18a-5cdd-4942-8512-875340f583bb')\"\n",
              "              title=\"Convert this dataframe to an interactive table.\"\n",
              "              style=\"display:none;\">\n",
              "        \n",
              "  <svg xmlns=\"http://www.w3.org/2000/svg\" height=\"24px\"viewBox=\"0 0 24 24\"\n",
              "       width=\"24px\">\n",
              "    <path d=\"M0 0h24v24H0V0z\" fill=\"none\"/>\n",
              "    <path d=\"M18.56 5.44l.94 2.06.94-2.06 2.06-.94-2.06-.94-.94-2.06-.94 2.06-2.06.94zm-11 1L8.5 8.5l.94-2.06 2.06-.94-2.06-.94L8.5 2.5l-.94 2.06-2.06.94zm10 10l.94 2.06.94-2.06 2.06-.94-2.06-.94-.94-2.06-.94 2.06-2.06.94z\"/><path d=\"M17.41 7.96l-1.37-1.37c-.4-.4-.92-.59-1.43-.59-.52 0-1.04.2-1.43.59L10.3 9.45l-7.72 7.72c-.78.78-.78 2.05 0 2.83L4 21.41c.39.39.9.59 1.41.59.51 0 1.02-.2 1.41-.59l7.78-7.78 2.81-2.81c.8-.78.8-2.07 0-2.86zM5.41 20L4 18.59l7.72-7.72 1.47 1.35L5.41 20z\"/>\n",
              "  </svg>\n",
              "      </button>\n",
              "      \n",
              "  <style>\n",
              "    .colab-df-container {\n",
              "      display:flex;\n",
              "      flex-wrap:wrap;\n",
              "      gap: 12px;\n",
              "    }\n",
              "\n",
              "    .colab-df-convert {\n",
              "      background-color: #E8F0FE;\n",
              "      border: none;\n",
              "      border-radius: 50%;\n",
              "      cursor: pointer;\n",
              "      display: none;\n",
              "      fill: #1967D2;\n",
              "      height: 32px;\n",
              "      padding: 0 0 0 0;\n",
              "      width: 32px;\n",
              "    }\n",
              "\n",
              "    .colab-df-convert:hover {\n",
              "      background-color: #E2EBFA;\n",
              "      box-shadow: 0px 1px 2px rgba(60, 64, 67, 0.3), 0px 1px 3px 1px rgba(60, 64, 67, 0.15);\n",
              "      fill: #174EA6;\n",
              "    }\n",
              "\n",
              "    [theme=dark] .colab-df-convert {\n",
              "      background-color: #3B4455;\n",
              "      fill: #D2E3FC;\n",
              "    }\n",
              "\n",
              "    [theme=dark] .colab-df-convert:hover {\n",
              "      background-color: #434B5C;\n",
              "      box-shadow: 0px 1px 3px 1px rgba(0, 0, 0, 0.15);\n",
              "      filter: drop-shadow(0px 1px 2px rgba(0, 0, 0, 0.3));\n",
              "      fill: #FFFFFF;\n",
              "    }\n",
              "  </style>\n",
              "\n",
              "      <script>\n",
              "        const buttonEl =\n",
              "          document.querySelector('#df-4ca1d18a-5cdd-4942-8512-875340f583bb button.colab-df-convert');\n",
              "        buttonEl.style.display =\n",
              "          google.colab.kernel.accessAllowed ? 'block' : 'none';\n",
              "\n",
              "        async function convertToInteractive(key) {\n",
              "          const element = document.querySelector('#df-4ca1d18a-5cdd-4942-8512-875340f583bb');\n",
              "          const dataTable =\n",
              "            await google.colab.kernel.invokeFunction('convertToInteractive',\n",
              "                                                     [key], {});\n",
              "          if (!dataTable) return;\n",
              "\n",
              "          const docLinkHtml = 'Like what you see? Visit the ' +\n",
              "            '<a target=\"_blank\" href=https://colab.research.google.com/notebooks/data_table.ipynb>data table notebook</a>'\n",
              "            + ' to learn more about interactive tables.';\n",
              "          element.innerHTML = '';\n",
              "          dataTable['output_type'] = 'display_data';\n",
              "          await google.colab.output.renderOutput(dataTable, element);\n",
              "          const docLink = document.createElement('div');\n",
              "          docLink.innerHTML = docLinkHtml;\n",
              "          element.appendChild(docLink);\n",
              "        }\n",
              "      </script>\n",
              "    </div>\n",
              "  </div>\n",
              "  "
            ]
          },
          "metadata": {},
          "execution_count": 15
        }
      ],
      "source": [
        "# Viewing Raw Data\n",
        "set_option('display.width', 100)\n",
        "fraud_data.head()"
      ],
      "id": "satisfied-cookbook"
    },
    {
      "cell_type": "code",
      "execution_count": null,
      "metadata": {
        "colab": {
          "base_uri": "https://localhost:8080/"
        },
        "id": "banned-rings",
        "outputId": "08ecf575-77e5-4a47-bf10-37dfb26d2b6f"
      },
      "outputs": [
        {
          "output_type": "execute_result",
          "data": {
            "text/plain": [
              "(284807, 31)"
            ]
          },
          "metadata": {},
          "execution_count": 16
        }
      ],
      "source": [
        "# Dimension of data\n",
        "fraud_data.shape"
      ],
      "id": "banned-rings"
    },
    {
      "cell_type": "code",
      "execution_count": null,
      "metadata": {
        "colab": {
          "base_uri": "https://localhost:8080/"
        },
        "id": "pretty-population",
        "outputId": "1ef6bf13-4e44-42ca-d5fc-61b2a9e825db"
      },
      "outputs": [
        {
          "output_type": "stream",
          "name": "stdout",
          "text": [
            "<class 'pandas.core.frame.DataFrame'>\n",
            "RangeIndex: 284807 entries, 0 to 284806\n",
            "Data columns (total 31 columns):\n",
            " #   Column  Non-Null Count   Dtype  \n",
            "---  ------  --------------   -----  \n",
            " 0   Time    284807 non-null  float64\n",
            " 1   V1      284807 non-null  float64\n",
            " 2   V2      284807 non-null  float64\n",
            " 3   V3      284807 non-null  float64\n",
            " 4   V4      284807 non-null  float64\n",
            " 5   V5      284807 non-null  float64\n",
            " 6   V6      284807 non-null  float64\n",
            " 7   V7      284807 non-null  float64\n",
            " 8   V8      284807 non-null  float64\n",
            " 9   V9      284807 non-null  float64\n",
            " 10  V10     284807 non-null  float64\n",
            " 11  V11     284807 non-null  float64\n",
            " 12  V12     284807 non-null  float64\n",
            " 13  V13     284807 non-null  float64\n",
            " 14  V14     284807 non-null  float64\n",
            " 15  V15     284807 non-null  float64\n",
            " 16  V16     284807 non-null  float64\n",
            " 17  V17     284807 non-null  float64\n",
            " 18  V18     284807 non-null  float64\n",
            " 19  V19     284807 non-null  float64\n",
            " 20  V20     284807 non-null  float64\n",
            " 21  V21     284807 non-null  float64\n",
            " 22  V22     284807 non-null  float64\n",
            " 23  V23     284807 non-null  float64\n",
            " 24  V24     284807 non-null  float64\n",
            " 25  V25     284807 non-null  float64\n",
            " 26  V26     284807 non-null  float64\n",
            " 27  V27     284807 non-null  float64\n",
            " 28  V28     284807 non-null  float64\n",
            " 29  Amount  284807 non-null  float64\n",
            " 30  Class   284807 non-null  int64  \n",
            "dtypes: float64(30), int64(1)\n",
            "memory usage: 67.4 MB\n"
          ]
        }
      ],
      "source": [
        "# Data Type\n",
        "fraud_data.info()"
      ],
      "id": "pretty-population"
    },
    {
      "cell_type": "markdown",
      "metadata": {
        "id": "developed-yugoslavia"
      },
      "source": [
        "> Our observations are as \n",
        "\n",
        "> NaN values do not present in the data set. Because of the Non-Null Count and number of rows in the dataset match.\n",
        "\n",
        "> There are 29 Input Variables and 1 Output Variable (Class)\n",
        "\n",
        "> The data type of all the input variables is float64 whereas the data type of out variable (Class) is int64"
      ],
      "id": "developed-yugoslavia"
    },
    {
      "cell_type": "code",
      "execution_count": null,
      "metadata": {
        "colab": {
          "base_uri": "https://localhost:8080/"
        },
        "id": "powerful-celebration",
        "outputId": "a6bf4925-c88e-4fb9-d6c9-106a1dbe57ad"
      },
      "outputs": [
        {
          "output_type": "execute_result",
          "data": {
            "text/plain": [
              "Time      0\n",
              "V1        0\n",
              "V2        0\n",
              "V3        0\n",
              "V4        0\n",
              "V5        0\n",
              "V6        0\n",
              "V7        0\n",
              "V8        0\n",
              "V9        0\n",
              "V10       0\n",
              "V11       0\n",
              "V12       0\n",
              "V13       0\n",
              "V14       0\n",
              "V15       0\n",
              "V16       0\n",
              "V17       0\n",
              "V18       0\n",
              "V19       0\n",
              "V20       0\n",
              "V21       0\n",
              "V22       0\n",
              "V23       0\n",
              "V24       0\n",
              "V25       0\n",
              "V26       0\n",
              "V27       0\n",
              "V28       0\n",
              "Amount    0\n",
              "Class     0\n",
              "dtype: int64"
            ]
          },
          "metadata": {},
          "execution_count": 18
        }
      ],
      "source": [
        "# CHecking Null values\n",
        "fraud_data.isnull().sum()"
      ],
      "id": "powerful-celebration"
    },
    {
      "cell_type": "code",
      "execution_count": null,
      "metadata": {
        "colab": {
          "base_uri": "https://localhost:8080/",
          "height": 394
        },
        "id": "looking-solution",
        "outputId": "e0865252-b08d-47b9-8403-7f0ac0a62647"
      },
      "outputs": [
        {
          "output_type": "execute_result",
          "data": {
            "text/plain": [
              "                Time            V1            V2            V3            V4            V5  \\\n",
              "count  284807.000000  2.848070e+05  2.848070e+05  2.848070e+05  2.848070e+05  2.848070e+05   \n",
              "mean    94813.859575 -1.158679e-09 -1.509794e-09 -7.794752e-09 -6.390292e-09  9.269435e-09   \n",
              "std     47488.145955  1.958696e+00  1.651309e+00  1.516255e+00  1.415869e+00  1.380247e+00   \n",
              "min         0.000000 -5.640751e+01 -7.271573e+01 -4.832559e+01 -5.683170e+00 -1.137433e+02   \n",
              "25%     54201.500000 -9.203700e-01 -5.985500e-01 -8.903650e-01 -8.486400e-01 -6.915950e-01   \n",
              "50%     84692.000000  1.811000e-02  6.549000e-02  1.798500e-01 -1.985000e-02 -5.434000e-02   \n",
              "75%    139320.500000  1.315645e+00  8.037250e-01  1.027195e+00  7.433400e-01  6.119300e-01   \n",
              "max    172792.000000  2.454930e+00  2.205773e+01  9.382560e+00  1.687534e+01  3.480167e+01   \n",
              "\n",
              "                 V6            V7            V8            V9  ...           V21           V22  \\\n",
              "count  2.848070e+05  2.848070e+05  2.848070e+05  2.848070e+05  ...  2.848070e+05  2.848070e+05   \n",
              "mean   9.550327e-09  7.900087e-09 -3.054700e-09 -3.862265e-10  ... -9.550327e-09  1.439571e-09   \n",
              "std    1.332271e+00  1.237094e+00  1.194353e+00  1.098632e+00  ...  7.345240e-01  7.257016e-01   \n",
              "min   -2.616051e+01 -4.355724e+01 -7.321672e+01 -1.343407e+01  ... -3.483038e+01 -1.093314e+01   \n",
              "25%   -7.683000e-01 -5.540750e-01 -2.086300e-01 -6.431000e-01  ... -2.283950e-01 -5.423500e-01   \n",
              "50%   -2.741900e-01  4.010000e-02  2.236000e-02 -5.143000e-02  ... -2.945000e-02  6.780000e-03   \n",
              "75%    3.985650e-01  5.704400e-01  3.273500e-01  5.971400e-01  ...  1.863750e-01  5.285550e-01   \n",
              "max    7.330163e+01  1.205895e+02  2.000721e+01  1.559499e+01  ...  2.720284e+01  1.050309e+01   \n",
              "\n",
              "                V23           V24           V25           V26           V27           V28  \\\n",
              "count  2.848070e+05  2.848070e+05  2.848070e+05  2.848070e+05  2.848070e+05  2.848070e+05   \n",
              "mean   1.000678e-08  7.689418e-09 -4.915609e-10  4.810275e-09  5.933843e-09 -1.674818e-08   \n",
              "std    6.244603e-01  6.056471e-01  5.212781e-01  4.822270e-01  4.036325e-01  3.300833e-01   \n",
              "min   -4.480774e+01 -2.836630e+00 -1.029540e+01 -2.604550e+00 -2.256568e+01 -1.543008e+01   \n",
              "25%   -1.618500e-01 -3.545850e-01 -3.171450e-01 -3.269850e-01 -7.084000e-02 -5.296000e-02   \n",
              "50%   -1.119000e-02  4.098000e-02  1.659000e-02 -5.214000e-02  1.340000e-03  1.124000e-02   \n",
              "75%    1.476400e-01  4.395300e-01  3.507200e-01  2.409550e-01  9.104500e-02  7.828000e-02   \n",
              "max    2.252841e+01  4.584550e+00  7.519590e+00  3.517350e+00  3.161220e+01  3.384781e+01   \n",
              "\n",
              "              Amount          Class  \n",
              "count  284807.000000  284807.000000  \n",
              "mean       88.349619       0.001727  \n",
              "std       250.120109       0.041527  \n",
              "min         0.000000       0.000000  \n",
              "25%         5.600000       0.000000  \n",
              "50%        22.000000       0.000000  \n",
              "75%        77.165000       0.000000  \n",
              "max     25691.160000       1.000000  \n",
              "\n",
              "[8 rows x 31 columns]"
            ],
            "text/html": [
              "\n",
              "  <div id=\"df-9fa21291-80bf-417a-b04d-bdf226a51441\">\n",
              "    <div class=\"colab-df-container\">\n",
              "      <div>\n",
              "<style scoped>\n",
              "    .dataframe tbody tr th:only-of-type {\n",
              "        vertical-align: middle;\n",
              "    }\n",
              "\n",
              "    .dataframe tbody tr th {\n",
              "        vertical-align: top;\n",
              "    }\n",
              "\n",
              "    .dataframe thead th {\n",
              "        text-align: right;\n",
              "    }\n",
              "</style>\n",
              "<table border=\"1\" class=\"dataframe\">\n",
              "  <thead>\n",
              "    <tr style=\"text-align: right;\">\n",
              "      <th></th>\n",
              "      <th>Time</th>\n",
              "      <th>V1</th>\n",
              "      <th>V2</th>\n",
              "      <th>V3</th>\n",
              "      <th>V4</th>\n",
              "      <th>V5</th>\n",
              "      <th>V6</th>\n",
              "      <th>V7</th>\n",
              "      <th>V8</th>\n",
              "      <th>V9</th>\n",
              "      <th>...</th>\n",
              "      <th>V21</th>\n",
              "      <th>V22</th>\n",
              "      <th>V23</th>\n",
              "      <th>V24</th>\n",
              "      <th>V25</th>\n",
              "      <th>V26</th>\n",
              "      <th>V27</th>\n",
              "      <th>V28</th>\n",
              "      <th>Amount</th>\n",
              "      <th>Class</th>\n",
              "    </tr>\n",
              "  </thead>\n",
              "  <tbody>\n",
              "    <tr>\n",
              "      <th>count</th>\n",
              "      <td>284807.000000</td>\n",
              "      <td>2.848070e+05</td>\n",
              "      <td>2.848070e+05</td>\n",
              "      <td>2.848070e+05</td>\n",
              "      <td>2.848070e+05</td>\n",
              "      <td>2.848070e+05</td>\n",
              "      <td>2.848070e+05</td>\n",
              "      <td>2.848070e+05</td>\n",
              "      <td>2.848070e+05</td>\n",
              "      <td>2.848070e+05</td>\n",
              "      <td>...</td>\n",
              "      <td>2.848070e+05</td>\n",
              "      <td>2.848070e+05</td>\n",
              "      <td>2.848070e+05</td>\n",
              "      <td>2.848070e+05</td>\n",
              "      <td>2.848070e+05</td>\n",
              "      <td>2.848070e+05</td>\n",
              "      <td>2.848070e+05</td>\n",
              "      <td>2.848070e+05</td>\n",
              "      <td>284807.000000</td>\n",
              "      <td>284807.000000</td>\n",
              "    </tr>\n",
              "    <tr>\n",
              "      <th>mean</th>\n",
              "      <td>94813.859575</td>\n",
              "      <td>-1.158679e-09</td>\n",
              "      <td>-1.509794e-09</td>\n",
              "      <td>-7.794752e-09</td>\n",
              "      <td>-6.390292e-09</td>\n",
              "      <td>9.269435e-09</td>\n",
              "      <td>9.550327e-09</td>\n",
              "      <td>7.900087e-09</td>\n",
              "      <td>-3.054700e-09</td>\n",
              "      <td>-3.862265e-10</td>\n",
              "      <td>...</td>\n",
              "      <td>-9.550327e-09</td>\n",
              "      <td>1.439571e-09</td>\n",
              "      <td>1.000678e-08</td>\n",
              "      <td>7.689418e-09</td>\n",
              "      <td>-4.915609e-10</td>\n",
              "      <td>4.810275e-09</td>\n",
              "      <td>5.933843e-09</td>\n",
              "      <td>-1.674818e-08</td>\n",
              "      <td>88.349619</td>\n",
              "      <td>0.001727</td>\n",
              "    </tr>\n",
              "    <tr>\n",
              "      <th>std</th>\n",
              "      <td>47488.145955</td>\n",
              "      <td>1.958696e+00</td>\n",
              "      <td>1.651309e+00</td>\n",
              "      <td>1.516255e+00</td>\n",
              "      <td>1.415869e+00</td>\n",
              "      <td>1.380247e+00</td>\n",
              "      <td>1.332271e+00</td>\n",
              "      <td>1.237094e+00</td>\n",
              "      <td>1.194353e+00</td>\n",
              "      <td>1.098632e+00</td>\n",
              "      <td>...</td>\n",
              "      <td>7.345240e-01</td>\n",
              "      <td>7.257016e-01</td>\n",
              "      <td>6.244603e-01</td>\n",
              "      <td>6.056471e-01</td>\n",
              "      <td>5.212781e-01</td>\n",
              "      <td>4.822270e-01</td>\n",
              "      <td>4.036325e-01</td>\n",
              "      <td>3.300833e-01</td>\n",
              "      <td>250.120109</td>\n",
              "      <td>0.041527</td>\n",
              "    </tr>\n",
              "    <tr>\n",
              "      <th>min</th>\n",
              "      <td>0.000000</td>\n",
              "      <td>-5.640751e+01</td>\n",
              "      <td>-7.271573e+01</td>\n",
              "      <td>-4.832559e+01</td>\n",
              "      <td>-5.683170e+00</td>\n",
              "      <td>-1.137433e+02</td>\n",
              "      <td>-2.616051e+01</td>\n",
              "      <td>-4.355724e+01</td>\n",
              "      <td>-7.321672e+01</td>\n",
              "      <td>-1.343407e+01</td>\n",
              "      <td>...</td>\n",
              "      <td>-3.483038e+01</td>\n",
              "      <td>-1.093314e+01</td>\n",
              "      <td>-4.480774e+01</td>\n",
              "      <td>-2.836630e+00</td>\n",
              "      <td>-1.029540e+01</td>\n",
              "      <td>-2.604550e+00</td>\n",
              "      <td>-2.256568e+01</td>\n",
              "      <td>-1.543008e+01</td>\n",
              "      <td>0.000000</td>\n",
              "      <td>0.000000</td>\n",
              "    </tr>\n",
              "    <tr>\n",
              "      <th>25%</th>\n",
              "      <td>54201.500000</td>\n",
              "      <td>-9.203700e-01</td>\n",
              "      <td>-5.985500e-01</td>\n",
              "      <td>-8.903650e-01</td>\n",
              "      <td>-8.486400e-01</td>\n",
              "      <td>-6.915950e-01</td>\n",
              "      <td>-7.683000e-01</td>\n",
              "      <td>-5.540750e-01</td>\n",
              "      <td>-2.086300e-01</td>\n",
              "      <td>-6.431000e-01</td>\n",
              "      <td>...</td>\n",
              "      <td>-2.283950e-01</td>\n",
              "      <td>-5.423500e-01</td>\n",
              "      <td>-1.618500e-01</td>\n",
              "      <td>-3.545850e-01</td>\n",
              "      <td>-3.171450e-01</td>\n",
              "      <td>-3.269850e-01</td>\n",
              "      <td>-7.084000e-02</td>\n",
              "      <td>-5.296000e-02</td>\n",
              "      <td>5.600000</td>\n",
              "      <td>0.000000</td>\n",
              "    </tr>\n",
              "    <tr>\n",
              "      <th>50%</th>\n",
              "      <td>84692.000000</td>\n",
              "      <td>1.811000e-02</td>\n",
              "      <td>6.549000e-02</td>\n",
              "      <td>1.798500e-01</td>\n",
              "      <td>-1.985000e-02</td>\n",
              "      <td>-5.434000e-02</td>\n",
              "      <td>-2.741900e-01</td>\n",
              "      <td>4.010000e-02</td>\n",
              "      <td>2.236000e-02</td>\n",
              "      <td>-5.143000e-02</td>\n",
              "      <td>...</td>\n",
              "      <td>-2.945000e-02</td>\n",
              "      <td>6.780000e-03</td>\n",
              "      <td>-1.119000e-02</td>\n",
              "      <td>4.098000e-02</td>\n",
              "      <td>1.659000e-02</td>\n",
              "      <td>-5.214000e-02</td>\n",
              "      <td>1.340000e-03</td>\n",
              "      <td>1.124000e-02</td>\n",
              "      <td>22.000000</td>\n",
              "      <td>0.000000</td>\n",
              "    </tr>\n",
              "    <tr>\n",
              "      <th>75%</th>\n",
              "      <td>139320.500000</td>\n",
              "      <td>1.315645e+00</td>\n",
              "      <td>8.037250e-01</td>\n",
              "      <td>1.027195e+00</td>\n",
              "      <td>7.433400e-01</td>\n",
              "      <td>6.119300e-01</td>\n",
              "      <td>3.985650e-01</td>\n",
              "      <td>5.704400e-01</td>\n",
              "      <td>3.273500e-01</td>\n",
              "      <td>5.971400e-01</td>\n",
              "      <td>...</td>\n",
              "      <td>1.863750e-01</td>\n",
              "      <td>5.285550e-01</td>\n",
              "      <td>1.476400e-01</td>\n",
              "      <td>4.395300e-01</td>\n",
              "      <td>3.507200e-01</td>\n",
              "      <td>2.409550e-01</td>\n",
              "      <td>9.104500e-02</td>\n",
              "      <td>7.828000e-02</td>\n",
              "      <td>77.165000</td>\n",
              "      <td>0.000000</td>\n",
              "    </tr>\n",
              "    <tr>\n",
              "      <th>max</th>\n",
              "      <td>172792.000000</td>\n",
              "      <td>2.454930e+00</td>\n",
              "      <td>2.205773e+01</td>\n",
              "      <td>9.382560e+00</td>\n",
              "      <td>1.687534e+01</td>\n",
              "      <td>3.480167e+01</td>\n",
              "      <td>7.330163e+01</td>\n",
              "      <td>1.205895e+02</td>\n",
              "      <td>2.000721e+01</td>\n",
              "      <td>1.559499e+01</td>\n",
              "      <td>...</td>\n",
              "      <td>2.720284e+01</td>\n",
              "      <td>1.050309e+01</td>\n",
              "      <td>2.252841e+01</td>\n",
              "      <td>4.584550e+00</td>\n",
              "      <td>7.519590e+00</td>\n",
              "      <td>3.517350e+00</td>\n",
              "      <td>3.161220e+01</td>\n",
              "      <td>3.384781e+01</td>\n",
              "      <td>25691.160000</td>\n",
              "      <td>1.000000</td>\n",
              "    </tr>\n",
              "  </tbody>\n",
              "</table>\n",
              "<p>8 rows × 31 columns</p>\n",
              "</div>\n",
              "      <button class=\"colab-df-convert\" onclick=\"convertToInteractive('df-9fa21291-80bf-417a-b04d-bdf226a51441')\"\n",
              "              title=\"Convert this dataframe to an interactive table.\"\n",
              "              style=\"display:none;\">\n",
              "        \n",
              "  <svg xmlns=\"http://www.w3.org/2000/svg\" height=\"24px\"viewBox=\"0 0 24 24\"\n",
              "       width=\"24px\">\n",
              "    <path d=\"M0 0h24v24H0V0z\" fill=\"none\"/>\n",
              "    <path d=\"M18.56 5.44l.94 2.06.94-2.06 2.06-.94-2.06-.94-.94-2.06-.94 2.06-2.06.94zm-11 1L8.5 8.5l.94-2.06 2.06-.94-2.06-.94L8.5 2.5l-.94 2.06-2.06.94zm10 10l.94 2.06.94-2.06 2.06-.94-2.06-.94-.94-2.06-.94 2.06-2.06.94z\"/><path d=\"M17.41 7.96l-1.37-1.37c-.4-.4-.92-.59-1.43-.59-.52 0-1.04.2-1.43.59L10.3 9.45l-7.72 7.72c-.78.78-.78 2.05 0 2.83L4 21.41c.39.39.9.59 1.41.59.51 0 1.02-.2 1.41-.59l7.78-7.78 2.81-2.81c.8-.78.8-2.07 0-2.86zM5.41 20L4 18.59l7.72-7.72 1.47 1.35L5.41 20z\"/>\n",
              "  </svg>\n",
              "      </button>\n",
              "      \n",
              "  <style>\n",
              "    .colab-df-container {\n",
              "      display:flex;\n",
              "      flex-wrap:wrap;\n",
              "      gap: 12px;\n",
              "    }\n",
              "\n",
              "    .colab-df-convert {\n",
              "      background-color: #E8F0FE;\n",
              "      border: none;\n",
              "      border-radius: 50%;\n",
              "      cursor: pointer;\n",
              "      display: none;\n",
              "      fill: #1967D2;\n",
              "      height: 32px;\n",
              "      padding: 0 0 0 0;\n",
              "      width: 32px;\n",
              "    }\n",
              "\n",
              "    .colab-df-convert:hover {\n",
              "      background-color: #E2EBFA;\n",
              "      box-shadow: 0px 1px 2px rgba(60, 64, 67, 0.3), 0px 1px 3px 1px rgba(60, 64, 67, 0.15);\n",
              "      fill: #174EA6;\n",
              "    }\n",
              "\n",
              "    [theme=dark] .colab-df-convert {\n",
              "      background-color: #3B4455;\n",
              "      fill: #D2E3FC;\n",
              "    }\n",
              "\n",
              "    [theme=dark] .colab-df-convert:hover {\n",
              "      background-color: #434B5C;\n",
              "      box-shadow: 0px 1px 3px 1px rgba(0, 0, 0, 0.15);\n",
              "      filter: drop-shadow(0px 1px 2px rgba(0, 0, 0, 0.3));\n",
              "      fill: #FFFFFF;\n",
              "    }\n",
              "  </style>\n",
              "\n",
              "      <script>\n",
              "        const buttonEl =\n",
              "          document.querySelector('#df-9fa21291-80bf-417a-b04d-bdf226a51441 button.colab-df-convert');\n",
              "        buttonEl.style.display =\n",
              "          google.colab.kernel.accessAllowed ? 'block' : 'none';\n",
              "\n",
              "        async function convertToInteractive(key) {\n",
              "          const element = document.querySelector('#df-9fa21291-80bf-417a-b04d-bdf226a51441');\n",
              "          const dataTable =\n",
              "            await google.colab.kernel.invokeFunction('convertToInteractive',\n",
              "                                                     [key], {});\n",
              "          if (!dataTable) return;\n",
              "\n",
              "          const docLinkHtml = 'Like what you see? Visit the ' +\n",
              "            '<a target=\"_blank\" href=https://colab.research.google.com/notebooks/data_table.ipynb>data table notebook</a>'\n",
              "            + ' to learn more about interactive tables.';\n",
              "          element.innerHTML = '';\n",
              "          dataTable['output_type'] = 'display_data';\n",
              "          await google.colab.output.renderOutput(dataTable, element);\n",
              "          const docLink = document.createElement('div');\n",
              "          docLink.innerHTML = docLinkHtml;\n",
              "          element.appendChild(docLink);\n",
              "        }\n",
              "      </script>\n",
              "    </div>\n",
              "  </div>\n",
              "  "
            ]
          },
          "metadata": {},
          "execution_count": 19
        }
      ],
      "source": [
        "# Summarizing data\n",
        "\n",
        "fraud_data = fraud_data.round(5)\n",
        "fraud_data.describe()\n"
      ],
      "id": "looking-solution"
    },
    {
      "cell_type": "code",
      "execution_count": null,
      "metadata": {
        "colab": {
          "base_uri": "https://localhost:8080/"
        },
        "id": "featured-exchange",
        "outputId": "ed1cc369-855a-4949-f92f-d91d900eb785"
      },
      "outputs": [
        {
          "output_type": "stream",
          "name": "stdout",
          "text": [
            "Not Fraud    284315\n",
            "Fraud           492\n",
            "Name: Class, dtype: int64\n"
          ]
        }
      ],
      "source": [
        "# Response Variable Analysis\n",
        "class_names = {0:'Not Fraud', 1:'Fraud'}\n",
        "rvs = fraud_data.Class.value_counts().rename(index = class_names)\n",
        "print(rvs)"
      ],
      "id": "featured-exchange"
    },
    {
      "cell_type": "markdown",
      "metadata": {
        "id": "adapted-investing"
      },
      "source": [
        "***Splitting data into training and testing data***"
      ],
      "id": "adapted-investing"
    },
    {
      "cell_type": "code",
      "execution_count": null,
      "metadata": {
        "id": "associate-talent"
      },
      "outputs": [],
      "source": [
        "from sklearn.model_selection import train_test_split\n",
        "\n",
        "y= fraud_data[\"Class\"]\n",
        "X = fraud_data.loc[:, fraud_data.columns != 'Class']\n",
        "X_train,X_test,y_train,y_test = train_test_split(X,y, test_size=1/6, random_state=42)"
      ],
      "id": "associate-talent"
    },
    {
      "cell_type": "markdown",
      "metadata": {
        "id": "personal-international"
      },
      "source": [
        "# Data Modelling"
      ],
      "id": "personal-international"
    },
    {
      "cell_type": "markdown",
      "metadata": {
        "id": "flying-gilbert"
      },
      "source": [
        "***Logistic Regression***"
      ],
      "id": "flying-gilbert"
    },
    {
      "cell_type": "code",
      "execution_count": null,
      "metadata": {
        "colab": {
          "base_uri": "https://localhost:8080/"
        },
        "id": "coordinate-comparative",
        "outputId": "90cc5d36-bf03-4657-d440-e42d6ef09a3b"
      },
      "outputs": [
        {
          "output_type": "stream",
          "name": "stdout",
          "text": [
            "Accuracy of Logistic Regression model :  99.89\n"
          ]
        },
        {
          "output_type": "stream",
          "name": "stderr",
          "text": [
            "/usr/local/lib/python3.9/dist-packages/sklearn/linear_model/_logistic.py:458: ConvergenceWarning: lbfgs failed to converge (status=1):\n",
            "STOP: TOTAL NO. of ITERATIONS REACHED LIMIT.\n",
            "\n",
            "Increase the number of iterations (max_iter) or scale the data as shown in:\n",
            "    https://scikit-learn.org/stable/modules/preprocessing.html\n",
            "Please also refer to the documentation for alternative solver options:\n",
            "    https://scikit-learn.org/stable/modules/linear_model.html#logistic-regression\n",
            "  n_iter_i = _check_optimize_result(\n"
          ]
        }
      ],
      "source": [
        "#Import Library for Accuracy Score\n",
        "from sklearn.metrics import accuracy_score\n",
        "\n",
        "#Import Library for Logistic Regression\n",
        "from sklearn.linear_model import LogisticRegression\n",
        "\n",
        "#Initialize the Logistic Regression Classifier\n",
        "logisreg = LogisticRegression()\n",
        "\n",
        "#Train the model using Training Dataset\n",
        "logisreg.fit(X_train, y_train)\n",
        "\n",
        "# Prediction using test data\n",
        "y_pred = logisreg.predict(X_test)\n",
        "\n",
        "# Calculate Model accuracy by comparing y_test and y_pred\n",
        "acc_logisreg = round( accuracy_score(y_test, y_pred) * 100, 2 )\n",
        "print( 'Accuracy of Logistic Regression model : ', acc_logisreg )"
      ],
      "id": "coordinate-comparative"
    },
    {
      "cell_type": "markdown",
      "metadata": {
        "id": "functioning-plenty"
      },
      "source": [
        "***Linear Discriminent Analysis***"
      ],
      "id": "functioning-plenty"
    },
    {
      "cell_type": "code",
      "execution_count": null,
      "metadata": {
        "colab": {
          "base_uri": "https://localhost:8080/"
        },
        "id": "stock-infection",
        "outputId": "06c67dc6-bf10-4193-c88a-9ff3c2fd74c8"
      },
      "outputs": [
        {
          "output_type": "stream",
          "name": "stdout",
          "text": [
            "Accuracy of Linear Discriminant Analysis Classifier:  99.93\n"
          ]
        }
      ],
      "source": [
        "#Import Library for Linear Discriminant Analysis\n",
        "from sklearn.discriminant_analysis import LinearDiscriminantAnalysis\n",
        "\n",
        "#Initialize the Linear Discriminant Analysis Classifier\n",
        "model = LinearDiscriminantAnalysis()\n",
        "\n",
        "#Train the model using Training Dataset\n",
        "model.fit(X_train, y_train)\n",
        "\n",
        "# Prediction using test data\n",
        "y_pred = model.predict(X_test)\n",
        "\n",
        "# Calculate Model accuracy by comparing y_test and y_pred\n",
        "acc_lda = round( accuracy_score(y_test, y_pred) * 100, 2 )\n",
        "print( 'Accuracy of Linear Discriminant Analysis Classifier: ', acc_lda )"
      ],
      "id": "stock-infection"
    },
    {
      "cell_type": "markdown",
      "metadata": {
        "id": "hairy-master"
      },
      "source": [
        "***Gaussian Naive Bayes***"
      ],
      "id": "hairy-master"
    },
    {
      "cell_type": "code",
      "execution_count": null,
      "metadata": {
        "colab": {
          "base_uri": "https://localhost:8080/"
        },
        "id": "adapted-flower",
        "outputId": "11da0e9e-3e56-4069-bd00-cbedc149324d"
      },
      "outputs": [
        {
          "output_type": "stream",
          "name": "stdout",
          "text": [
            "Accuracy of Gaussian Naive Bayes :  99.3\n"
          ]
        }
      ],
      "source": [
        "#Import Library for Gaussian Naive Bayes\n",
        "from sklearn.naive_bayes import GaussianNB\n",
        "\n",
        "#Initialize the Gaussian Naive Bayes Classifier\n",
        "model = GaussianNB()\n",
        "\n",
        "#Train the model using Training Dataset\n",
        "model.fit(X_train, y_train)\n",
        "\n",
        "# Prediction using test data\n",
        "y_pred = model.predict(X_test)\n",
        "\n",
        "# Calculate Model accuracy by comparing y_test and y_pred\n",
        "acc_ganb = round( accuracy_score(y_test, y_pred) * 100, 2 )\n",
        "print( 'Accuracy of Gaussian Naive Bayes : ', acc_ganb )"
      ],
      "id": "adapted-flower"
    },
    {
      "cell_type": "markdown",
      "metadata": {
        "id": "reflected-syndication"
      },
      "source": [
        "***Decision Tree***"
      ],
      "id": "reflected-syndication"
    },
    {
      "cell_type": "code",
      "execution_count": null,
      "metadata": {
        "colab": {
          "base_uri": "https://localhost:8080/"
        },
        "id": "floating-liabilities",
        "outputId": "1b03d39e-0717-4b7f-b6a1-a2280813cdd0"
      },
      "outputs": [
        {
          "output_type": "stream",
          "name": "stdout",
          "text": [
            "Accuracy of  Decision Tree Classifier :  99.91\n"
          ]
        }
      ],
      "source": [
        "#Import Library for Decision Tree Classifier\n",
        "from sklearn.tree import DecisionTreeClassifier\n",
        "\n",
        "#Initialize the Decision Tree Classifier\n",
        "model = DecisionTreeClassifier()\n",
        "\n",
        "#Train the model using Training Dataset\n",
        "model.fit(X_train, y_train)\n",
        "\n",
        "# Prediction using test data\n",
        "y_pred = model.predict(X_test)\n",
        "\n",
        "# Calculate Model accuracy by comparing y_test and y_pred\n",
        "acc_dtree = round( accuracy_score(y_test, y_pred) * 100, 2 )\n",
        "print( 'Accuracy of  Decision Tree Classifier : ', acc_dtree )"
      ],
      "id": "floating-liabilities"
    },
    {
      "cell_type": "markdown",
      "metadata": {
        "id": "recreational-shooting"
      },
      "source": [
        "***Random Forest***"
      ],
      "id": "recreational-shooting"
    },
    {
      "cell_type": "code",
      "execution_count": null,
      "metadata": {
        "id": "broadband-anderson",
        "colab": {
          "base_uri": "https://localhost:8080/"
        },
        "outputId": "aa98e6ab-638f-46fd-dfc0-824ef567fca4"
      },
      "outputs": [
        {
          "output_type": "stream",
          "name": "stdout",
          "text": [
            "Accuracy of  Random Forest :  99.96\n"
          ]
        }
      ],
      "source": [
        "#Import Library for Random Forest\n",
        "from sklearn.ensemble import RandomForestClassifier\n",
        "\n",
        "#Initialize the Random Forest\n",
        "model = RandomForestClassifier()\n",
        "\n",
        "#Train the model using Training Dataset\n",
        "model.fit(X_train, y_train)\n",
        "\n",
        "# Prediction using test data\n",
        "y_pred = model.predict(X_test)\n",
        "\n",
        "# Calculate Model accuracy by comparing y_test and y_pred\n",
        "acc_rf = round( accuracy_score(y_test, y_pred) * 100, 2 )\n",
        "print( 'Accuracy of  Random Forest : ', acc_rf )"
      ],
      "id": "broadband-anderson"
    },
    {
      "cell_type": "markdown",
      "metadata": {
        "id": "becoming-grove"
      },
      "source": [
        "***Support Vector Machine***"
      ],
      "id": "becoming-grove"
    },
    {
      "cell_type": "code",
      "execution_count": null,
      "metadata": {
        "id": "human-notice",
        "colab": {
          "base_uri": "https://localhost:8080/"
        },
        "outputId": "bf803286-da38-4667-fa5f-3e5fd8e8ca1f"
      },
      "outputs": [
        {
          "output_type": "stream",
          "name": "stdout",
          "text": [
            "Accuracy of Support Vector Classifier:  99.83\n"
          ]
        }
      ],
      "source": [
        "#Import Library for Support Vector Machine\n",
        "from sklearn import svm\n",
        "\n",
        "#Initialize the Support Vector Classifier\n",
        "model = svm.SVC()\n",
        "\n",
        "#Train the model using Training Dataset\n",
        "model.fit(X_train, y_train)\n",
        "\n",
        "# Prediction using test data\n",
        "y_pred = model.predict(X_test)\n",
        "\n",
        "# Calculate Model accuracy by comparing y_test and y_pred\n",
        "acc_svc = round( accuracy_score(y_test, y_pred) * 100, 2 )\n",
        "print( 'Accuracy of Support Vector Classifier: ', acc_svc )"
      ],
      "id": "human-notice"
    },
    {
      "cell_type": "markdown",
      "metadata": {
        "id": "reasonable-night"
      },
      "source": [
        "***KNN***"
      ],
      "id": "reasonable-night"
    },
    {
      "cell_type": "code",
      "execution_count": null,
      "metadata": {
        "id": "prime-oklahoma",
        "colab": {
          "base_uri": "https://localhost:8080/"
        },
        "outputId": "8230de0a-513d-41fc-d48b-6e22c4cce90a"
      },
      "outputs": [
        {
          "output_type": "stream",
          "name": "stdout",
          "text": [
            "Accuracy of KNN Classifier:  99.84\n"
          ]
        }
      ],
      "source": [
        "#Import Library for K Nearest Neighbour Model\n",
        "from sklearn.neighbors import KNeighborsClassifier\n",
        "\n",
        "#Initialize the K Nearest Neighbour Model with Default Value of K=5\n",
        "model = KNeighborsClassifier()\n",
        "\n",
        "#Train the model using Training Dataset\n",
        "model.fit(X_train, y_train)\n",
        "\n",
        "# Prediction using test data\n",
        "y_pred = model.predict(X_test)\n",
        "\n",
        "# Calculate Model accuracy by comparing y_test and y_pred\n",
        "acc_knn = round( accuracy_score(y_test, y_pred) * 100, 2 )\n",
        "print( 'Accuracy of KNN Classifier: ', acc_knn )"
      ],
      "id": "prime-oklahoma"
    },
    {
      "cell_type": "markdown",
      "metadata": {
        "id": "quiet-reading"
      },
      "source": [
        "# Model Selection"
      ],
      "id": "quiet-reading"
    },
    {
      "cell_type": "code",
      "execution_count": null,
      "metadata": {
        "id": "individual-voice",
        "colab": {
          "base_uri": "https://localhost:8080/",
          "height": 269
        },
        "outputId": "063b167e-0421-47b8-fa8a-70ddbc5f3d82"
      },
      "outputs": [
        {
          "output_type": "execute_result",
          "data": {
            "text/plain": [
              "                          Model  Score\n",
              "4                 Random Forest  99.96\n",
              "1  Linear Discriminant Analysis  99.93\n",
              "3                 Decision Tree  99.91\n",
              "0           Logistic Regression  99.89\n",
              "6         K - Nearest Neighbors  99.84\n",
              "5       Support Vector Machines  99.83\n",
              "2                   Naive Bayes  99.30"
            ],
            "text/html": [
              "\n",
              "  <div id=\"df-ba013df2-1cab-4dae-8b50-a2588b102acd\">\n",
              "    <div class=\"colab-df-container\">\n",
              "      <div>\n",
              "<style scoped>\n",
              "    .dataframe tbody tr th:only-of-type {\n",
              "        vertical-align: middle;\n",
              "    }\n",
              "\n",
              "    .dataframe tbody tr th {\n",
              "        vertical-align: top;\n",
              "    }\n",
              "\n",
              "    .dataframe thead th {\n",
              "        text-align: right;\n",
              "    }\n",
              "</style>\n",
              "<table border=\"1\" class=\"dataframe\">\n",
              "  <thead>\n",
              "    <tr style=\"text-align: right;\">\n",
              "      <th></th>\n",
              "      <th>Model</th>\n",
              "      <th>Score</th>\n",
              "    </tr>\n",
              "  </thead>\n",
              "  <tbody>\n",
              "    <tr>\n",
              "      <th>4</th>\n",
              "      <td>Random Forest</td>\n",
              "      <td>99.96</td>\n",
              "    </tr>\n",
              "    <tr>\n",
              "      <th>1</th>\n",
              "      <td>Linear Discriminant Analysis</td>\n",
              "      <td>99.93</td>\n",
              "    </tr>\n",
              "    <tr>\n",
              "      <th>3</th>\n",
              "      <td>Decision Tree</td>\n",
              "      <td>99.91</td>\n",
              "    </tr>\n",
              "    <tr>\n",
              "      <th>0</th>\n",
              "      <td>Logistic Regression</td>\n",
              "      <td>99.89</td>\n",
              "    </tr>\n",
              "    <tr>\n",
              "      <th>6</th>\n",
              "      <td>K - Nearest Neighbors</td>\n",
              "      <td>99.84</td>\n",
              "    </tr>\n",
              "    <tr>\n",
              "      <th>5</th>\n",
              "      <td>Support Vector Machines</td>\n",
              "      <td>99.83</td>\n",
              "    </tr>\n",
              "    <tr>\n",
              "      <th>2</th>\n",
              "      <td>Naive Bayes</td>\n",
              "      <td>99.30</td>\n",
              "    </tr>\n",
              "  </tbody>\n",
              "</table>\n",
              "</div>\n",
              "      <button class=\"colab-df-convert\" onclick=\"convertToInteractive('df-ba013df2-1cab-4dae-8b50-a2588b102acd')\"\n",
              "              title=\"Convert this dataframe to an interactive table.\"\n",
              "              style=\"display:none;\">\n",
              "        \n",
              "  <svg xmlns=\"http://www.w3.org/2000/svg\" height=\"24px\"viewBox=\"0 0 24 24\"\n",
              "       width=\"24px\">\n",
              "    <path d=\"M0 0h24v24H0V0z\" fill=\"none\"/>\n",
              "    <path d=\"M18.56 5.44l.94 2.06.94-2.06 2.06-.94-2.06-.94-.94-2.06-.94 2.06-2.06.94zm-11 1L8.5 8.5l.94-2.06 2.06-.94-2.06-.94L8.5 2.5l-.94 2.06-2.06.94zm10 10l.94 2.06.94-2.06 2.06-.94-2.06-.94-.94-2.06-.94 2.06-2.06.94z\"/><path d=\"M17.41 7.96l-1.37-1.37c-.4-.4-.92-.59-1.43-.59-.52 0-1.04.2-1.43.59L10.3 9.45l-7.72 7.72c-.78.78-.78 2.05 0 2.83L4 21.41c.39.39.9.59 1.41.59.51 0 1.02-.2 1.41-.59l7.78-7.78 2.81-2.81c.8-.78.8-2.07 0-2.86zM5.41 20L4 18.59l7.72-7.72 1.47 1.35L5.41 20z\"/>\n",
              "  </svg>\n",
              "      </button>\n",
              "      \n",
              "  <style>\n",
              "    .colab-df-container {\n",
              "      display:flex;\n",
              "      flex-wrap:wrap;\n",
              "      gap: 12px;\n",
              "    }\n",
              "\n",
              "    .colab-df-convert {\n",
              "      background-color: #E8F0FE;\n",
              "      border: none;\n",
              "      border-radius: 50%;\n",
              "      cursor: pointer;\n",
              "      display: none;\n",
              "      fill: #1967D2;\n",
              "      height: 32px;\n",
              "      padding: 0 0 0 0;\n",
              "      width: 32px;\n",
              "    }\n",
              "\n",
              "    .colab-df-convert:hover {\n",
              "      background-color: #E2EBFA;\n",
              "      box-shadow: 0px 1px 2px rgba(60, 64, 67, 0.3), 0px 1px 3px 1px rgba(60, 64, 67, 0.15);\n",
              "      fill: #174EA6;\n",
              "    }\n",
              "\n",
              "    [theme=dark] .colab-df-convert {\n",
              "      background-color: #3B4455;\n",
              "      fill: #D2E3FC;\n",
              "    }\n",
              "\n",
              "    [theme=dark] .colab-df-convert:hover {\n",
              "      background-color: #434B5C;\n",
              "      box-shadow: 0px 1px 3px 1px rgba(0, 0, 0, 0.15);\n",
              "      filter: drop-shadow(0px 1px 2px rgba(0, 0, 0, 0.3));\n",
              "      fill: #FFFFFF;\n",
              "    }\n",
              "  </style>\n",
              "\n",
              "      <script>\n",
              "        const buttonEl =\n",
              "          document.querySelector('#df-ba013df2-1cab-4dae-8b50-a2588b102acd button.colab-df-convert');\n",
              "        buttonEl.style.display =\n",
              "          google.colab.kernel.accessAllowed ? 'block' : 'none';\n",
              "\n",
              "        async function convertToInteractive(key) {\n",
              "          const element = document.querySelector('#df-ba013df2-1cab-4dae-8b50-a2588b102acd');\n",
              "          const dataTable =\n",
              "            await google.colab.kernel.invokeFunction('convertToInteractive',\n",
              "                                                     [key], {});\n",
              "          if (!dataTable) return;\n",
              "\n",
              "          const docLinkHtml = 'Like what you see? Visit the ' +\n",
              "            '<a target=\"_blank\" href=https://colab.research.google.com/notebooks/data_table.ipynb>data table notebook</a>'\n",
              "            + ' to learn more about interactive tables.';\n",
              "          element.innerHTML = '';\n",
              "          dataTable['output_type'] = 'display_data';\n",
              "          await google.colab.output.renderOutput(dataTable, element);\n",
              "          const docLink = document.createElement('div');\n",
              "          docLink.innerHTML = docLinkHtml;\n",
              "          element.appendChild(docLink);\n",
              "        }\n",
              "      </script>\n",
              "    </div>\n",
              "  </div>\n",
              "  "
            ]
          },
          "metadata": {},
          "execution_count": 30
        }
      ],
      "source": [
        "models = pd.DataFrame({\n",
        "    'Model': ['Logistic Regression', 'Linear Discriminant Analysis','Naive Bayes', 'Decision Tree', 'Random Forest', 'Support Vector Machines', \n",
        "              'K - Nearest Neighbors'],\n",
        "    'Score': [acc_logisreg, acc_lda, acc_ganb, acc_dtree, acc_rf, acc_svc, acc_knn]})\n",
        "\n",
        "models.sort_values(by='Score', ascending=False)\n"
      ],
      "id": "individual-voice"
    },
    {
      "cell_type": "markdown",
      "metadata": {
        "id": "metropolitan-piece"
      },
      "source": [
        ">The Best model for Predicting in **Random Forest Model** with **99.96% Accuracy**"
      ],
      "id": "metropolitan-piece"
    }
  ],
  "metadata": {
    "colab": {
      "provenance": []
    },
    "kernelspec": {
      "display_name": "Python 3",
      "language": "python",
      "name": "python3"
    },
    "language_info": {
      "codemirror_mode": {
        "name": "ipython",
        "version": 3
      },
      "file_extension": ".py",
      "mimetype": "text/x-python",
      "name": "python",
      "nbconvert_exporter": "python",
      "pygments_lexer": "ipython3",
      "version": "3.7.10"
    },
    "papermill": {
      "default_parameters": {},
      "duration": 875.168653,
      "end_time": "2021-06-06T09:36:01.697320",
      "environment_variables": {},
      "exception": null,
      "input_path": "__notebook__.ipynb",
      "output_path": "__notebook__.ipynb",
      "parameters": {},
      "start_time": "2021-06-06T09:21:26.528667",
      "version": "2.3.3"
    },
    "accelerator": "GPU",
    "gpuClass": "standard"
  },
  "nbformat": 4,
  "nbformat_minor": 5
}